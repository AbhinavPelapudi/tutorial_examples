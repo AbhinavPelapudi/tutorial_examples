{
 "cells": [
  {
   "cell_type": "markdown",
   "metadata": {},
   "source": [
    "This demo will walk through two networks - a bi-directional LSTM and a temporal CNN. The bi-directional LSTM is trained with a pre-trained embedding that it then improves upon. \n",
    "The dataset is the Ditigal Music reviews from: http://jmcauley.ucsd.edu/data/amazon/ and the pre-trained word embedding is Google News' 300d vector which can be downloaded from https://code.google.com/archive/p/word2vec/. Please download the dataset and model from those locations. The terms and conditions of the data set license apply. Intel does not grant any rights to the data files.\n",
    "\n",
    "In this example we are taking the most positive and most negative reviews from that dataset, and using simple normalization techniques. More complex techniques and larger datasets can be applied to get better results as currently the networks are overfitting in the examples. We will discuss some strategies to mitigate overfitting.\n",
    "\n",
    "Everything can be run on a laptop, Python 3.6 is used, though it should all work in Python 2.7 as well."
   ]
  },
  {
   "cell_type": "code",
   "execution_count": 1,
   "metadata": {},
   "outputs": [
    {
     "name": "stderr",
     "output_type": "stream",
     "text": [
      "Using TensorFlow backend.\n"
     ]
    }
   ],
   "source": [
    "import numpy as np\n",
    "import pandas as pd \n",
    "import pickle\n",
    "import json\n",
    "import gensim\n",
    "import os\n",
    "import re\n",
    "\n",
    "from sklearn.model_selection import train_test_split\n",
    "\n",
    "from pandas.plotting import scatter_matrix\n",
    "\n",
    "from keras.preprocessing.text import Tokenizer\n",
    "from keras.preprocessing.sequence import pad_sequences\n",
    "from keras.preprocessing import sequence\n",
    "from keras.optimizers import RMSprop, SGD\n",
    "from keras.models import Sequential, Model\n",
    "from keras.layers.core import Dense, Dropout, Activation, Flatten, Reshape\n",
    "from keras.layers import Input, Bidirectional, LSTM, regularizers\n",
    "from keras.layers.embeddings import Embedding\n",
    "from keras.layers.convolutional import Conv1D, MaxPooling1D, MaxPooling2D, Conv2D\n",
    "from keras.layers.normalization import BatchNormalization\n",
    "from keras.callbacks import EarlyStopping\n",
    "\n",
    "\n",
    "%matplotlib inline\n",
    "\n",
    "import matplotlib\n",
    "import numpy as np\n",
    "import matplotlib.pyplot as plt\n",
    "\n",
    "from hyperopt import fmin, tpe, hp, Trials"
   ]
  },
  {
   "cell_type": "code",
   "execution_count": 2,
   "metadata": {
    "collapsed": true
   },
   "outputs": [],
   "source": [
    "# Change these to match your file paths :)\n",
    "filename = '/data_path/reviews_Digital_Music_5.json' #64,706 reviews"
   ]
  },
  {
   "cell_type": "code",
   "execution_count": 3,
   "metadata": {},
   "outputs": [],
   "source": [
    "model_path = \"model_path/GoogleNews-vectors-negative300.bin\"\n",
    "word_vector_model = gensim.models.KeyedVectors.load_word2vec_format(model_path, binary=True)"
   ]
  },
  {
   "cell_type": "code",
   "execution_count": 4,
   "metadata": {
    "collapsed": true
   },
   "outputs": [],
   "source": [
    "def normalize(txt, vocab=None, replace_char=' ',\n",
    "                max_length=300, pad_out=False,\n",
    "                to_lower=True, reverse = False,\n",
    "                truncate_left=False, encoding=None,\n",
    "                letters_only=False):\n",
    "  \n",
    "    txt = txt.split()\n",
    "    # Remove HTML\n",
    "    # This will keep characters and other symbols\n",
    "    txt = [re.sub(r'http:.*', '', r) for r in txt]\n",
    "    txt = [re.sub(r'https:.*', '', r) for r in txt]\n",
    "    \n",
    "    txt = ( \" \".join(txt))\n",
    "    # Remove non-emoticon punctuation and numbers\n",
    "    txt = re.sub(\"[.,!0-9]\", \" \", txt)\n",
    "    if letters_only: \n",
    "        txt = re.sub(\"[^a-zA-Z]\", \" \", txt)\n",
    "    txt = \" \".join(txt.split())\n",
    "    # store length for multiple comparisons\n",
    "    txt_len = len(txt)\n",
    "\n",
    "    if truncate_left:\n",
    "        txt = txt[-max_length:]\n",
    "    else:\n",
    "        txt = txt[:max_length]\n",
    "    # change case\n",
    "    if to_lower:\n",
    "        txt = txt.lower()\n",
    "    # Reverse order\n",
    "    if reverse:\n",
    "        txt = txt[::-1]\n",
    "    # replace chars\n",
    "    if vocab is not None:\n",
    "        txt = ''.join([c if c in vocab else replace_char for c in txt])\n",
    "    # re-encode text\n",
    "    if encoding is not None:\n",
    "        txt = txt.encode(encoding, errors=\"ignore\")\n",
    "    # pad out if needed\n",
    "    if pad_out and max_length>txt_len:\n",
    "        txt = txt + replace_char * (max_length - txt_len)\n",
    "    return txt"
   ]
  },
  {
   "cell_type": "code",
   "execution_count": 5,
   "metadata": {},
   "outputs": [
    {
     "data": {
      "text/plain": [
       "'this is a sentence with things :) and a link'"
      ]
     },
     "execution_count": 5,
     "metadata": {},
     "output_type": "execute_result"
    }
   ],
   "source": [
    "# What does this normalization function look like?\n",
    "normalize(\"This is A sentence. with things! 123 :) and a link https://gitub.com\")"
   ]
  },
  {
   "cell_type": "code",
   "execution_count": 6,
   "metadata": {
    "collapsed": true
   },
   "outputs": [],
   "source": [
    "def balance(df):\n",
    "    print(\"Balancing the classes\")\n",
    "    type_counts = df['Sentiment'].value_counts()\n",
    "    min_count = min(type_counts.values)\n",
    "\n",
    "    balanced_df = None\n",
    "    for key in type_counts.keys():\n",
    "\n",
    "        df_sub = df[df['Sentiment']==key].sample(n=min_count, replace=False)\n",
    "        if balanced_df is not None:\n",
    "            balanced_df = balanced_df.append(df_sub)\n",
    "        else:\n",
    "            balanced_df = df_sub\n",
    "    return balanced_df"
   ]
  },
  {
   "cell_type": "markdown",
   "metadata": {},
   "source": [
    "Some of the larger Amazon datasts have to be loaded line by line as they are too large to be directly read into a Pandas DataFrame, but the smaller files may be read directly. I'm also changing the reviews into a sentiment, mapping the 1 stars as negative and 5 stars as positive. This function can be modified as desired, or you can keep the stars and use that as your prediction mechanism."
   ]
  },
  {
   "cell_type": "code",
   "execution_count": 7,
   "metadata": {
    "collapsed": true
   },
   "outputs": [],
   "source": [
    "good_columns = [\n",
    "    \"overall\", \n",
    "    \"reviewText\", \n",
    "    \"summary\"\n",
    "]\n",
    "\n",
    "def review_to_sentiment(review):\n",
    "    # Review is coming in as overall (the rating, reviewText, and summary)\n",
    "    # this then cleans the summary and review and gives it a positive or negative value\n",
    "    norm_text = normalize(review[2] + \" \" + review[1])\n",
    "    if review[0] ==5:\n",
    "        return ['positive', norm_text]\n",
    "    elif review[0] ==1:\n",
    "        return ['negative', norm_text]\n",
    "    else:\n",
    "        return ['other', norm_text]\n",
    "    \n",
    "\n",
    "\n",
    "data = []\n",
    "with open(filename, 'r') as f:\n",
    "    for line in f:\n",
    "        data_line = json.loads(line)\n",
    "        selected_row = []\n",
    "        for item in good_columns:\n",
    "            selected_row.append(data_line[item])\n",
    "        # as we read in, clean\n",
    "        data.append(review_to_sentiment(selected_row))\n",
    "        \n",
    "amazon = pd.DataFrame(data, columns=['Sentiment', 'clean_text'], dtype=str)\n",
    "\n"
   ]
  },
  {
   "cell_type": "code",
   "execution_count": 8,
   "metadata": {},
   "outputs": [
    {
     "data": {
      "text/html": [
       "<div>\n",
       "<style scoped>\n",
       "    .dataframe tbody tr th:only-of-type {\n",
       "        vertical-align: middle;\n",
       "    }\n",
       "\n",
       "    .dataframe tbody tr th {\n",
       "        vertical-align: top;\n",
       "    }\n",
       "\n",
       "    .dataframe thead th {\n",
       "        text-align: right;\n",
       "    }\n",
       "</style>\n",
       "<table border=\"1\" class=\"dataframe\">\n",
       "  <thead>\n",
       "    <tr style=\"text-align: right;\">\n",
       "      <th></th>\n",
       "      <th>Sentiment</th>\n",
       "      <th>clean_text</th>\n",
       "    </tr>\n",
       "  </thead>\n",
       "  <tbody>\n",
       "    <tr>\n",
       "      <th>0</th>\n",
       "      <td>positive</td>\n",
       "      <td>enya's last great album it's hard to believe \"...</td>\n",
       "    </tr>\n",
       "    <tr>\n",
       "      <th>1</th>\n",
       "      <td>positive</td>\n",
       "      <td>enya at her most elegant a clasically-styled a...</td>\n",
       "    </tr>\n",
       "    <tr>\n",
       "      <th>2</th>\n",
       "      <td>positive</td>\n",
       "      <td>the best so far i never thought enya would rea...</td>\n",
       "    </tr>\n",
       "    <tr>\n",
       "      <th>3</th>\n",
       "      <td>positive</td>\n",
       "      <td>ireland produces good music this is the third ...</td>\n",
       "    </tr>\n",
       "    <tr>\n",
       "      <th>5</th>\n",
       "      <td>positive</td>\n",
       "      <td>dreamy unearthly magic continues with eire's o...</td>\n",
       "    </tr>\n",
       "  </tbody>\n",
       "</table>\n",
       "</div>"
      ],
      "text/plain": [
       "  Sentiment                                         clean_text\n",
       "0  positive  enya's last great album it's hard to believe \"...\n",
       "1  positive  enya at her most elegant a clasically-styled a...\n",
       "2  positive  the best so far i never thought enya would rea...\n",
       "3  positive  ireland produces good music this is the third ...\n",
       "5  positive  dreamy unearthly magic continues with eire's o..."
      ]
     },
     "execution_count": 8,
     "metadata": {},
     "output_type": "execute_result"
    }
   ],
   "source": [
    "# For this demo lets just keep one and five stars the others are marked 'other\n",
    "amazon = amazon[amazon['Sentiment'].isin(['positive', 'negative'])]\n",
    "amazon.head()"
   ]
  },
  {
   "cell_type": "code",
   "execution_count": 9,
   "metadata": {},
   "outputs": [
    {
     "name": "stdout",
     "output_type": "stream",
     "text": [
      "Balancing the classes\n"
     ]
    },
    {
     "data": {
      "text/plain": [
       "5582"
      ]
     },
     "execution_count": 9,
     "metadata": {},
     "output_type": "execute_result"
    }
   ],
   "source": [
    "balanced_amazon = balance(amazon)\n",
    "len(balanced_amazon)"
   ]
  },
  {
   "cell_type": "code",
   "execution_count": 10,
   "metadata": {
    "collapsed": true
   },
   "outputs": [],
   "source": [
    "# Now go from the pandas into lists of text and labels\n",
    "\n",
    "text = balanced_amazon['clean_text'].values\n",
    "labels_0 = pd.get_dummies(balanced_amazon['Sentiment'])  # mapping of the labels with dummies (has headers)\n",
    "labels = labels_0.values # removes the headers"
   ]
  },
  {
   "cell_type": "code",
   "execution_count": 11,
   "metadata": {
    "collapsed": true
   },
   "outputs": [],
   "source": [
    "# Perform the Train/test split\n",
    "X_train_, X_test_, Y_train_, Y_test_ = train_test_split(text,labels, test_size = 0.2, random_state = 42)"
   ]
  },
  {
   "cell_type": "code",
   "execution_count": 12,
   "metadata": {},
   "outputs": [
    {
     "data": {
      "text/plain": [
       "array([[1, 0],\n",
       "       [0, 1],\n",
       "       [1, 0],\n",
       "       [0, 1],\n",
       "       [1, 0]], dtype=uint8)"
      ]
     },
     "execution_count": 12,
     "metadata": {},
     "output_type": "execute_result"
    }
   ],
   "source": [
    "# What does the data look like?\n",
    "# It is a one-hot encoding of the label, either positive or negative\n",
    "Y_train_[:5]"
   ]
  },
  {
   "cell_type": "code",
   "execution_count": 13,
   "metadata": {},
   "outputs": [
    {
     "data": {
      "text/plain": [
       "'a true poet gil scott-heron is one of the greatest poets the world has ever produced his words still hit home very underrated when folks talk about lyrical genius but he has written songs that are timeless&amp;very much in your face&amp;mind the music is great as well solid production&amp;arrangemen'"
      ]
     },
     "execution_count": 13,
     "metadata": {},
     "output_type": "execute_result"
    }
   ],
   "source": [
    "X_train_[42]"
   ]
  },
  {
   "cell_type": "code",
   "execution_count": 14,
   "metadata": {
    "collapsed": true
   },
   "outputs": [],
   "source": [
    "### Now for a simple bidirectional LSTM algorithm we set our feature sizes and train a tokenizer\n",
    "# First we Tokenize and get the data into a form that the model can read - this is BoW\n",
    "# In this cell we are also going to define some of our hyperparameters\n",
    "\n",
    "max_fatures = 2000\n",
    "max_len=300\n",
    "batch_size = 32\n",
    "embed_dim = 300\n",
    "lstm_out = 140\n",
    "\n",
    "dense_out=len(labels[0]) #length of features\n",
    "tokenizer = Tokenizer(num_words=max_fatures, split=' ')\n",
    "tokenizer.fit_on_texts(X_train_)\n",
    "X_train = tokenizer.texts_to_sequences(X_train_)\n",
    "X_train = pad_sequences(X_train, maxlen=max_len, padding='post')\n",
    "\n",
    "X_test = tokenizer.texts_to_sequences(X_test_)\n",
    "X_test = pad_sequences(X_test, maxlen=max_len, padding='post')\n",
    "\n",
    "word_index = tokenizer.word_index"
   ]
  },
  {
   "cell_type": "code",
   "execution_count": 15,
   "metadata": {},
   "outputs": [
    {
     "data": {
      "text/plain": [
       "array([  66,   82,   62,   16,  867,    8,   35, 1181,  593,   21,    1,\n",
       "        117, 1034,   31,  246,   10,    2,    7,   93,   10,  139,    7,\n",
       "        137,    3,  161,  144,    2,    7,  112,    4,    5,    1,  123,\n",
       "        149,   46,   31,   69,  179,    3, 1145,  359,    6, 1868, 1512,\n",
       "         10,   21,  463,  823,    7,  349,   10,   38,  484,   12,    7,\n",
       "        462, 1356,    0,    0,    0,    0,    0,    0,    0,    0,    0,\n",
       "          0,    0,    0,    0,    0,    0,    0,    0,    0,    0,    0,\n",
       "          0,    0,    0,    0,    0,    0,    0,    0,    0,    0,    0,\n",
       "          0,    0,    0,    0,    0,    0,    0,    0,    0,    0,    0,\n",
       "          0,    0,    0,    0,    0,    0,    0,    0,    0,    0,    0,\n",
       "          0,    0,    0,    0,    0,    0,    0,    0,    0,    0,    0,\n",
       "          0,    0,    0,    0,    0,    0,    0,    0,    0,    0,    0,\n",
       "          0,    0,    0,    0,    0,    0,    0,    0,    0,    0,    0,\n",
       "          0,    0,    0,    0,    0,    0,    0,    0,    0,    0,    0,\n",
       "          0,    0,    0,    0,    0,    0,    0,    0,    0,    0,    0,\n",
       "          0,    0,    0,    0,    0,    0,    0,    0,    0,    0,    0,\n",
       "          0,    0,    0,    0,    0,    0,    0,    0,    0,    0,    0,\n",
       "          0,    0,    0,    0,    0,    0,    0,    0,    0,    0,    0,\n",
       "          0,    0,    0,    0,    0,    0,    0,    0,    0,    0,    0,\n",
       "          0,    0,    0,    0,    0,    0,    0,    0,    0,    0,    0,\n",
       "          0,    0,    0,    0,    0,    0,    0,    0,    0,    0,    0,\n",
       "          0,    0,    0,    0,    0,    0,    0,    0,    0,    0,    0,\n",
       "          0,    0,    0,    0,    0,    0,    0,    0,    0,    0,    0,\n",
       "          0,    0,    0,    0,    0,    0,    0,    0,    0,    0,    0,\n",
       "          0,    0,    0,    0,    0,    0,    0,    0,    0,    0,    0,\n",
       "          0,    0,    0,    0,    0,    0,    0,    0,    0,    0,    0,\n",
       "          0,    0,    0,    0,    0,    0,    0,    0,    0,    0,    0,\n",
       "          0,    0,    0], dtype=int32)"
      ]
     },
     "execution_count": 15,
     "metadata": {},
     "output_type": "execute_result"
    }
   ],
   "source": [
    "# Now what does our data look like?\n",
    "# Tokenizer creates a BOW encoding, which is then going to be fed into our Embedding matrix\n",
    "# This will be used by the model to build up a word embedding\n",
    "X_test[42]"
   ]
  },
  {
   "cell_type": "code",
   "execution_count": 16,
   "metadata": {},
   "outputs": [
    {
     "data": {
      "text/plain": [
       "array([-1.65039062e-01,  2.04101562e-01,  1.30859375e-01,  2.87109375e-01,\n",
       "       -1.68945312e-01, -3.66210938e-03,  1.72851562e-01, -2.75390625e-01,\n",
       "       -3.61328125e-02,  3.19824219e-02,  6.34765625e-02, -7.17773438e-02,\n",
       "       -3.00781250e-01, -7.42187500e-02,  3.12500000e-02,  6.44531250e-02,\n",
       "        6.54296875e-02,  6.29882812e-02,  1.50390625e-01, -3.06640625e-01,\n",
       "       -3.97949219e-02, -9.37500000e-02,  1.98974609e-02, -1.44653320e-02,\n",
       "       -9.66796875e-02, -1.00585938e-01, -2.92968750e-01, -5.59082031e-02,\n",
       "        4.16015625e-01, -2.22656250e-01,  1.45507812e-01, -3.34472656e-02,\n",
       "        1.84326172e-02, -1.62109375e-01, -1.12304688e-01, -1.78710938e-01,\n",
       "       -1.92382812e-01, -7.87353516e-03,  3.32031250e-01,  6.54296875e-02,\n",
       "       -6.44531250e-02, -1.39648438e-01,  3.84765625e-01,  2.38281250e-01,\n",
       "       -1.00097656e-01,  1.17675781e-01, -1.16699219e-01, -8.69140625e-02,\n",
       "        4.66308594e-02,  1.19140625e-01, -2.44140625e-01,  1.45507812e-01,\n",
       "        2.94921875e-01,  2.44140625e-01, -1.64794922e-02, -5.07812500e-02,\n",
       "       -2.17773438e-01,  4.10156250e-01,  1.28906250e-01, -2.51953125e-01,\n",
       "       -2.57812500e-01,  5.07812500e-02, -4.25781250e-01,  2.24609375e-01,\n",
       "        1.17187500e-01,  1.42578125e-01, -3.39843750e-01,  1.75781250e-01,\n",
       "        9.03320312e-02,  4.21875000e-01,  6.20117188e-02,  1.93359375e-01,\n",
       "        9.57031250e-02,  7.42187500e-02, -4.78515625e-01, -4.63867188e-02,\n",
       "       -1.69677734e-02,  1.34765625e-01,  1.87500000e-01,  6.25000000e-02,\n",
       "       -1.92382812e-01,  1.28906250e-01,  1.75781250e-02, -4.00390625e-02,\n",
       "        1.48437500e-01,  1.05957031e-01,  8.88671875e-02,  3.06396484e-02,\n",
       "       -6.03027344e-02, -5.00488281e-02, -2.27355957e-03,  7.03125000e-02,\n",
       "       -3.51562500e-01,  3.97949219e-02, -1.82617188e-01,  8.59375000e-02,\n",
       "       -1.86767578e-02,  2.45117188e-01,  1.35742188e-01, -1.78710938e-01,\n",
       "       -2.79296875e-01, -5.93261719e-02, -8.59375000e-02,  9.86328125e-02,\n",
       "        6.68945312e-02,  3.00781250e-01,  6.22558594e-02,  1.37695312e-01,\n",
       "        1.37695312e-01,  1.09375000e-01, -3.80859375e-01,  1.14746094e-02,\n",
       "       -1.47460938e-01, -2.77343750e-01,  2.69531250e-01, -5.00488281e-03,\n",
       "        7.81250000e-02, -8.54492188e-02, -1.38671875e-01, -3.59375000e-01,\n",
       "        1.89453125e-01,  5.76171875e-02, -8.34960938e-02, -1.44653320e-02,\n",
       "        1.30859375e-01, -2.21679688e-01, -8.49609375e-02, -1.05468750e-01,\n",
       "        3.35937500e-01,  1.31835938e-01, -9.27734375e-02,  6.59179688e-02,\n",
       "        1.10351562e-01, -5.61523438e-02, -1.75781250e-01,  7.22656250e-02,\n",
       "        2.81982422e-02,  6.10351562e-02, -2.33154297e-02,  2.22656250e-01,\n",
       "        2.73437500e-01, -2.51953125e-01, -2.98828125e-01, -3.90625000e-02,\n",
       "        6.73828125e-02,  9.27734375e-02, -2.84423828e-02, -7.61718750e-02,\n",
       "        9.52148438e-02, -2.67578125e-01, -7.32421875e-02,  1.13769531e-01,\n",
       "       -3.22265625e-02,  1.03515625e-01, -1.47460938e-01,  5.22613525e-04,\n",
       "        1.49414062e-01,  3.94531250e-01, -1.56250000e-01, -2.07031250e-01,\n",
       "       -2.41210938e-01, -7.59887695e-03,  1.94335938e-01,  1.64062500e-01,\n",
       "        1.75781250e-01, -4.60937500e-01, -5.27343750e-02,  2.89306641e-02,\n",
       "       -2.57812500e-01, -1.04980469e-01,  8.74023438e-02, -8.15429688e-02,\n",
       "        1.45507812e-01,  6.64062500e-02, -6.00585938e-02,  2.61718750e-01,\n",
       "        6.00585938e-02, -7.27539062e-02,  1.20605469e-01,  6.54296875e-02,\n",
       "       -1.03027344e-01, -9.13085938e-02,  4.24804688e-02,  3.78417969e-02,\n",
       "        2.77343750e-01, -2.36328125e-01, -9.96093750e-02, -8.88671875e-02,\n",
       "       -9.08203125e-02,  8.59375000e-02,  3.00781250e-01,  1.18164062e-01,\n",
       "        2.07519531e-03, -6.68945312e-02,  5.46875000e-01,  1.84570312e-01,\n",
       "       -1.13769531e-01,  8.85009766e-03,  2.01171875e-01, -8.30078125e-02,\n",
       "       -1.63085938e-01,  4.32128906e-02, -2.03125000e-01,  1.08032227e-02,\n",
       "        2.11181641e-02, -1.19140625e-01, -3.04687500e-01,  9.57031250e-02,\n",
       "       -1.13769531e-01,  4.41406250e-01,  4.85839844e-02,  3.06396484e-02,\n",
       "       -2.02148438e-01, -3.20312500e-01,  1.85546875e-02,  4.78515625e-02,\n",
       "        2.50000000e-01,  1.31835938e-01, -2.61718750e-01, -1.55273438e-01,\n",
       "       -3.00292969e-02,  3.49609375e-01, -1.10839844e-01,  7.81250000e-02,\n",
       "        5.90820312e-02, -1.34765625e-01, -1.72851562e-01,  1.45507812e-01,\n",
       "       -1.23046875e-01, -9.96093750e-02, -2.41210938e-01,  1.56250000e-01,\n",
       "       -2.34375000e-01, -9.03320312e-02,  2.87109375e-01,  3.36914062e-02,\n",
       "        3.90625000e-03,  1.34765625e-01,  2.07031250e-01,  2.71484375e-01,\n",
       "        1.07910156e-01,  1.64794922e-02, -1.06201172e-02,  8.69140625e-02,\n",
       "       -3.39355469e-02,  9.17968750e-02, -6.07910156e-02,  1.25000000e-01,\n",
       "        9.91210938e-02, -2.57812500e-01,  1.54296875e-01,  1.26953125e-01,\n",
       "        3.73046875e-01,  4.31640625e-01, -1.59179688e-01, -7.95898438e-02,\n",
       "        6.03027344e-02, -4.51660156e-02, -3.97949219e-02,  6.07299805e-03,\n",
       "       -1.94335938e-01, -5.29785156e-02, -6.39648438e-02, -2.13867188e-01,\n",
       "        2.36328125e-01, -6.20117188e-02, -2.14843750e-02,  4.15039062e-02,\n",
       "        6.73828125e-02, -2.75390625e-01, -2.32421875e-01,  1.61132812e-01,\n",
       "        1.42578125e-01, -2.55126953e-02,  9.88769531e-03, -1.81640625e-01,\n",
       "       -1.15234375e-01, -5.10253906e-02, -1.26953125e-01,  1.39648438e-01,\n",
       "       -2.06054688e-01,  3.63769531e-02,  2.99072266e-02,  2.91015625e-01,\n",
       "        8.98437500e-02,  6.78710938e-02,  7.01904297e-03, -1.05468750e-01,\n",
       "       -7.71484375e-02,  6.93359375e-02,  1.78710938e-01,  1.28906250e-01,\n",
       "       -1.79443359e-02, -3.71093750e-02, -5.32226562e-02, -1.01074219e-01,\n",
       "       -2.40234375e-01, -3.92578125e-01, -1.92382812e-01,  5.78613281e-02],\n",
       "      dtype=float32)"
      ]
     },
     "execution_count": 16,
     "metadata": {},
     "output_type": "execute_result"
    }
   ],
   "source": [
    "# What does a word vector look like?\n",
    "# Ahhhh, like a bunch of numbers\n",
    "word_vector_model.word_vec('hi')"
   ]
  },
  {
   "cell_type": "code",
   "execution_count": 17,
   "metadata": {},
   "outputs": [
    {
     "name": "stdout",
     "output_type": "stream",
     "text": [
      "Prepare the embedding matrix\n"
     ]
    }
   ],
   "source": [
    "print('Prepare the embedding matrix')\n",
    "\n",
    "# prepare embedding matrix\n",
    "num_words = min(max_fatures, len(word_index))\n",
    "embedding_matrix = np.zeros((num_words, embed_dim))\n",
    "for word, i in word_index.items():\n",
    "    if i >= max_len:\n",
    "        continue\n",
    "    # words not found in embedding index will be all-zeros.\n",
    "    if word in word_vector_model.vocab:\n",
    "        embedding_matrix[i] = word_vector_model.word_vec(word)\n",
    "\n",
    "# load pre-trained word embeddings into an Embedding layer\n",
    "# note that we set trainable = True to fine tune the embeddings\n",
    "embedding_layer = Embedding(num_words,\n",
    "                            embed_dim,\n",
    "                            weights=[embedding_matrix],\n",
    "                            input_length=max_fatures,\n",
    "                            trainable=True)"
   ]
  },
  {
   "cell_type": "code",
   "execution_count": 19,
   "metadata": {},
   "outputs": [
    {
     "name": "stdout",
     "output_type": "stream",
     "text": [
      "WARNING:tensorflow:From /Users/annabeth/anaconda/envs/py36/lib/python3.6/site-packages/keras/backend/tensorflow_backend.py:1344: calling reduce_mean (from tensorflow.python.ops.math_ops) with keep_dims is deprecated and will be removed in a future version.\n",
      "Instructions for updating:\n",
      "keep_dims is deprecated, use keepdims instead\n"
     ]
    }
   ],
   "source": [
    "# Define the model using the pre-trained embedding\n",
    "sequence_input = Input(shape=(max_len,), dtype='int32')\n",
    "embedded_sequences = embedding_layer(sequence_input)\n",
    "x = Bidirectional(LSTM(lstm_out, recurrent_dropout=0.5, activation='tanh'))(embedded_sequences)\n",
    "preds = Dense(dense_out, activation='softmax')(x)\n",
    "\n",
    "model = Model(sequence_input, preds)\n",
    "model.compile(loss='categorical_crossentropy',\n",
    "              optimizer='adam',\n",
    "              metrics=['acc'])"
   ]
  },
  {
   "cell_type": "code",
   "execution_count": 20,
   "metadata": {},
   "outputs": [
    {
     "name": "stdout",
     "output_type": "stream",
     "text": [
      "Train on 4465 samples, validate on 1117 samples\n",
      "Epoch 1/20\n",
      " - 85s - loss: 0.4680 - acc: 0.7783 - val_loss: 0.3523 - val_acc: 0.8496\n",
      "Epoch 2/20\n",
      " - 84s - loss: 0.2781 - acc: 0.8876 - val_loss: 0.3443 - val_acc: 0.8442\n",
      "Epoch 3/20\n",
      " - 83s - loss: 0.1968 - acc: 0.9221 - val_loss: 0.3700 - val_acc: 0.8308\n",
      "Epoch 4/20\n",
      " - 84s - loss: 0.1469 - acc: 0.9451 - val_loss: 0.4000 - val_acc: 0.8505\n",
      "Epoch 5/20\n",
      " - 82s - loss: 0.0894 - acc: 0.9711 - val_loss: 0.4802 - val_acc: 0.8478\n",
      "Epoch 6/20\n",
      " - 82s - loss: 0.0542 - acc: 0.9828 - val_loss: 0.5430 - val_acc: 0.8415\n",
      "Epoch 7/20\n",
      " - 83s - loss: 0.0479 - acc: 0.9850 - val_loss: 0.5724 - val_acc: 0.8165\n",
      "Epoch 8/20\n",
      " - 83s - loss: 0.0337 - acc: 0.9908 - val_loss: 0.6893 - val_acc: 0.8487\n",
      "Epoch 9/20\n",
      " - 83s - loss: 0.0090 - acc: 0.9989 - val_loss: 0.7429 - val_acc: 0.8397\n",
      "Epoch 10/20\n",
      " - 81s - loss: 0.0110 - acc: 0.9975 - val_loss: 0.8305 - val_acc: 0.8424\n",
      "Epoch 11/20\n",
      " - 84s - loss: 0.0045 - acc: 0.9989 - val_loss: 0.8527 - val_acc: 0.8353\n",
      "Epoch 12/20\n",
      " - 82s - loss: 0.0079 - acc: 0.9975 - val_loss: 0.8297 - val_acc: 0.8362\n",
      "Epoch 13/20\n",
      " - 81s - loss: 0.0147 - acc: 0.9942 - val_loss: 1.0953 - val_acc: 0.8236\n",
      "Epoch 14/20\n",
      " - 81s - loss: 0.0028 - acc: 0.9993 - val_loss: 1.0002 - val_acc: 0.8380\n",
      "Epoch 15/20\n",
      " - 82s - loss: 0.0011 - acc: 0.9998 - val_loss: 1.0492 - val_acc: 0.8397\n",
      "Epoch 16/20\n",
      " - 82s - loss: 2.7383e-04 - acc: 1.0000 - val_loss: 1.0793 - val_acc: 0.8469\n",
      "Epoch 17/20\n",
      " - 83s - loss: 1.4529e-04 - acc: 1.0000 - val_loss: 1.1192 - val_acc: 0.8460\n",
      "Epoch 18/20\n",
      " - 81s - loss: 1.0854e-04 - acc: 1.0000 - val_loss: 1.1464 - val_acc: 0.8478\n",
      "Epoch 19/20\n",
      " - 82s - loss: 8.5897e-05 - acc: 1.0000 - val_loss: 1.1656 - val_acc: 0.8487\n",
      "Epoch 20/20\n",
      " - 82s - loss: 7.0487e-05 - acc: 1.0000 - val_loss: 1.1859 - val_acc: 0.8487\n"
     ]
    }
   ],
   "source": [
    "model_hist_embedding = model.fit(X_train, Y_train_, epochs = 20, batch_size=batch_size, verbose = 2,\n",
    "                        validation_data=(X_test,Y_test_))"
   ]
  },
  {
   "cell_type": "markdown",
   "metadata": {},
   "source": [
    "## Temporal Convolutional Networks\n",
    "How does the simple bidirectional LSTM compare to the temporal convolutional network?\n",
    "\n",
    "This As defined in \"Text Understanding from Scratch\" by Zhang, LeCun 2015 https://arxiv.org/pdf/1502.01710v4.pdf this model is a series of 1D CNNs, with a maxpooling and fully connected layers."
   ]
  },
  {
   "cell_type": "code",
   "execution_count": 21,
   "metadata": {},
   "outputs": [],
   "source": [
    "zhang_lecun_vocab=list(\"abcdefghijklmnopqrstuvwxyz0123456789-,;.!?:’’’/\\|_@#$%ˆ&*˜‘+-=<>()[]{}\") \n",
    "vocab_hash = {b: a for a, b in enumerate(zhang_lecun_vocab)}\n",
    "\n",
    "def to_one_hot(txt, length = max_len, vocab=vocab_hash):\n",
    "    \n",
    "    vocab_size = len(vocab.keys())\n",
    "    one_hot_vec = np.zeros((vocab_size, length), dtype=np.float32)\n",
    "    # run through txt and \"switch on\" relevant positions in one-hot vector\n",
    "    for idx, char in enumerate(txt):\n",
    "        try:\n",
    "            vocab_idx = vocab_hash[char]\n",
    "            one_hot_vec[vocab_idx, idx] = 1\n",
    "        # raised if character is out of vocabulary\n",
    "        except:\n",
    "            #print(char)\n",
    "            pass\n",
    "    return one_hot_vec"
   ]
  },
  {
   "cell_type": "code",
   "execution_count": 22,
   "metadata": {},
   "outputs": [
    {
     "data": {
      "text/plain": [
       "array([[1., 0., 0., ..., 0., 0., 0.],\n",
       "       [0., 0., 0., ..., 0., 0., 0.],\n",
       "       [0., 0., 1., ..., 0., 0., 0.],\n",
       "       ...,\n",
       "       [0., 0., 0., ..., 0., 0., 0.],\n",
       "       [0., 0., 0., ..., 0., 0., 0.],\n",
       "       [0., 0., 0., ..., 0., 0., 0.]], dtype=float32)"
      ]
     },
     "execution_count": 22,
     "metadata": {},
     "output_type": "execute_result"
    }
   ],
   "source": [
    "to_one_hot(\"a cat ate foccacia\")"
   ]
  },
  {
   "cell_type": "code",
   "execution_count": 23,
   "metadata": {
    "collapsed": true
   },
   "outputs": [],
   "source": [
    "def one_hot_cnn(dense_out, max_len=300, frame='small'):\n",
    "\n",
    "    if frame == 'large':\n",
    "        cnn_size = 1024\n",
    "        fully_connected = [2048,2048,dense_out]\n",
    "    elif frame =='small':\n",
    "        cnn_size = 256\n",
    "        fully_connected = [1024,1024,dense_out]\n",
    "    elif frame =='tiny':\n",
    "        cnn_size = 128\n",
    "        fully_connected = [512,512,dense_out]\n",
    "        \n",
    "\n",
    "    model = Sequential()\n",
    "\n",
    "    model.add(Conv1D(cnn_size, 7, padding='same', input_shape=(67, max_len)))\n",
    "    model.add(MaxPooling1D(pool_size=3))\n",
    "\n",
    "    #Input = 22 x cnn_size\n",
    "    model.add(Conv1D(cnn_size, 7, padding='same'))\n",
    "    model.add(MaxPooling1D(pool_size=3))\n",
    "\n",
    "    #Input = 7 x cnn_size\n",
    "    model.add(Conv1D(cnn_size,3, padding='same'))\n",
    "\n",
    "    #Input = 7 x cnn_size\n",
    "    model.add(Conv1D(cnn_size,3, padding='same'))\n",
    "\n",
    "    model.add(Conv1D(cnn_size,3, padding='same'))\n",
    "\n",
    "    # #Input = 7 x cnn_size\n",
    "    model.add(Conv1D(cnn_size, 3, padding='same'))\n",
    "    model.add(MaxPooling1D(pool_size=3))\n",
    "    \n",
    "    model.add(Flatten())\n",
    "\n",
    "    #Fully Connected Layers\n",
    "\n",
    "    #Input is 512 Output is 1024/2048\n",
    "    model.add(Dense(fully_connected[0]))\n",
    "    model.add(Dropout(0.75))\n",
    "    model.add(Activation('relu'))\n",
    "\n",
    "    #Input is 1024/2048 Output is 1024/2048\n",
    "    model.add(Dense(fully_connected[1]))\n",
    "    model.add(Dropout(0.75))\n",
    "    model.add(Activation('relu'))\n",
    "\n",
    "    #Input is 1024/2048 Output is dense_out size (number of classes)\n",
    "    model.add(Dense(fully_connected[2]))\n",
    "    model.add(Activation('softmax'))\n",
    "\n",
    "    #Stochastic gradient parameters as set by paper\n",
    "    sgd = SGD(lr=0.01, decay=1e-5, momentum=0.9, nesterov=True)\n",
    "    model.compile(loss='categorical_crossentropy', optimizer=sgd, metrics=['accuracy'])\n",
    "\n",
    "    return model"
   ]
  },
  {
   "cell_type": "code",
   "execution_count": 24,
   "metadata": {},
   "outputs": [
    {
     "name": "stdout",
     "output_type": "stream",
     "text": [
      "(4465, 67, 300)\n"
     ]
    }
   ],
   "source": [
    "X_train_a_ = [to_one_hot(x) for x in X_train_]\n",
    "X_test_a_ = [to_one_hot(x) for x in X_test_]\n",
    "\n",
    "X_train_a = np.asarray(X_train_a_)\n",
    "Y_train_a = Y_train_\n",
    "\n",
    "X_test_a = np.asarray(X_test_a_)\n",
    "Y_test_a = Y_test_\n",
    "\n",
    "print(X_train_a.shape)"
   ]
  },
  {
   "cell_type": "code",
   "execution_count": 35,
   "metadata": {},
   "outputs": [
    {
     "name": "stdout",
     "output_type": "stream",
     "text": [
      "_________________________________________________________________\n",
      "Layer (type)                 Output Shape              Param #   \n",
      "=================================================================\n",
      "conv1d_19 (Conv1D)           (None, 67, 256)           537856    \n",
      "_________________________________________________________________\n",
      "max_pooling1d_10 (MaxPooling (None, 22, 256)           0         \n",
      "_________________________________________________________________\n",
      "conv1d_20 (Conv1D)           (None, 22, 256)           459008    \n",
      "_________________________________________________________________\n",
      "max_pooling1d_11 (MaxPooling (None, 7, 256)            0         \n",
      "_________________________________________________________________\n",
      "conv1d_21 (Conv1D)           (None, 7, 256)            196864    \n",
      "_________________________________________________________________\n",
      "conv1d_22 (Conv1D)           (None, 7, 256)            196864    \n",
      "_________________________________________________________________\n",
      "conv1d_23 (Conv1D)           (None, 7, 256)            196864    \n",
      "_________________________________________________________________\n",
      "conv1d_24 (Conv1D)           (None, 7, 256)            196864    \n",
      "_________________________________________________________________\n",
      "max_pooling1d_12 (MaxPooling (None, 2, 256)            0         \n",
      "_________________________________________________________________\n",
      "flatten_4 (Flatten)          (None, 512)               0         \n",
      "_________________________________________________________________\n",
      "dense_12 (Dense)             (None, 1024)              525312    \n",
      "_________________________________________________________________\n",
      "dropout_7 (Dropout)          (None, 1024)              0         \n",
      "_________________________________________________________________\n",
      "activation_10 (Activation)   (None, 1024)              0         \n",
      "_________________________________________________________________\n",
      "dense_13 (Dense)             (None, 1024)              1049600   \n",
      "_________________________________________________________________\n",
      "dropout_8 (Dropout)          (None, 1024)              0         \n",
      "_________________________________________________________________\n",
      "activation_11 (Activation)   (None, 1024)              0         \n",
      "_________________________________________________________________\n",
      "dense_14 (Dense)             (None, 2)                 2050      \n",
      "_________________________________________________________________\n",
      "activation_12 (Activation)   (None, 2)                 0         \n",
      "=================================================================\n",
      "Total params: 3,361,282\n",
      "Trainable params: 3,361,282\n",
      "Non-trainable params: 0\n",
      "_________________________________________________________________\n"
     ]
    }
   ],
   "source": [
    "model_cnn = one_hot_cnn(dense_out, frame='small')\n",
    "model_cnn.summary()"
   ]
  },
  {
   "cell_type": "code",
   "execution_count": 36,
   "metadata": {},
   "outputs": [
    {
     "name": "stdout",
     "output_type": "stream",
     "text": [
      "Train on 4465 samples, validate on 1117 samples\n",
      "Epoch 1/20\n",
      "4465/4465 [==============================] - 12s 3ms/step - loss: 0.7110 - acc: 0.5050 - val_loss: 0.6953 - val_acc: 0.4879\n",
      "Epoch 2/20\n",
      "4465/4465 [==============================] - 12s 3ms/step - loss: 0.7048 - acc: 0.5024 - val_loss: 0.6945 - val_acc: 0.4879\n",
      "Epoch 3/20\n",
      "4465/4465 [==============================] - 11s 3ms/step - loss: 0.7010 - acc: 0.5122 - val_loss: 0.6922 - val_acc: 0.5264\n",
      "Epoch 4/20\n",
      "4465/4465 [==============================] - 12s 3ms/step - loss: 0.6973 - acc: 0.5131 - val_loss: 0.6916 - val_acc: 0.5273\n",
      "Epoch 5/20\n",
      "4465/4465 [==============================] - 12s 3ms/step - loss: 0.6886 - acc: 0.5442 - val_loss: 0.6920 - val_acc: 0.5228\n",
      "Epoch 6/20\n",
      "4465/4465 [==============================] - 11s 3ms/step - loss: 0.6528 - acc: 0.6206 - val_loss: 0.7426 - val_acc: 0.4960\n",
      "Epoch 7/20\n",
      "4465/4465 [==============================] - 12s 3ms/step - loss: 0.4952 - acc: 0.7695 - val_loss: 0.8299 - val_acc: 0.5389\n",
      "Epoch 8/20\n",
      "4465/4465 [==============================] - 12s 3ms/step - loss: 0.1523 - acc: 0.9485 - val_loss: 1.5280 - val_acc: 0.5443\n",
      "Epoch 9/20\n",
      "4465/4465 [==============================] - 12s 3ms/step - loss: 0.0866 - acc: 0.9702 - val_loss: 1.6476 - val_acc: 0.5282\n",
      "Epoch 10/20\n",
      "4465/4465 [==============================] - 12s 3ms/step - loss: 0.0571 - acc: 0.9801 - val_loss: 2.1418 - val_acc: 0.5515\n",
      "Epoch 11/20\n",
      "4465/4465 [==============================] - 12s 3ms/step - loss: 0.0632 - acc: 0.9747 - val_loss: 2.2884 - val_acc: 0.5407\n",
      "Epoch 12/20\n",
      "4465/4465 [==============================] - 12s 3ms/step - loss: 0.0462 - acc: 0.9850 - val_loss: 2.0141 - val_acc: 0.5443\n",
      "Epoch 13/20\n",
      "4465/4465 [==============================] - 12s 3ms/step - loss: 0.0269 - acc: 0.9917 - val_loss: 2.1857 - val_acc: 0.5551\n",
      "Epoch 14/20\n",
      "4465/4465 [==============================] - 12s 3ms/step - loss: 0.0273 - acc: 0.9908 - val_loss: 2.2976 - val_acc: 0.5568\n",
      "Epoch 15/20\n",
      "4465/4465 [==============================] - 12s 3ms/step - loss: 0.0175 - acc: 0.9944 - val_loss: 2.6683 - val_acc: 0.5586\n",
      "Epoch 16/20\n",
      "4465/4465 [==============================] - 12s 3ms/step - loss: 0.0254 - acc: 0.9906 - val_loss: 2.3203 - val_acc: 0.5363\n",
      "Epoch 17/20\n",
      "4465/4465 [==============================] - 12s 3ms/step - loss: 0.0141 - acc: 0.9946 - val_loss: 2.3924 - val_acc: 0.5604\n",
      "Epoch 18/20\n",
      "4465/4465 [==============================] - 12s 3ms/step - loss: 0.0048 - acc: 0.9987 - val_loss: 2.5982 - val_acc: 0.5542\n",
      "Epoch 19/20\n",
      "4465/4465 [==============================] - 12s 3ms/step - loss: 0.0037 - acc: 0.9989 - val_loss: 3.4331 - val_acc: 0.5264\n",
      "Epoch 20/20\n",
      "4465/4465 [==============================] - 12s 3ms/step - loss: 0.0107 - acc: 0.9964 - val_loss: 3.2068 - val_acc: 0.5425\n"
     ]
    }
   ],
   "source": [
    "model_hist_cnn = model_cnn.fit(X_train_a, Y_train_a, batch_size=64, epochs=20, verbose=1, \n",
    "          validation_data=(X_test_a,Y_test_a))"
   ]
  },
  {
   "cell_type": "markdown",
   "metadata": {},
   "source": [
    "How do these different performances compare?"
   ]
  },
  {
   "cell_type": "code",
   "execution_count": 37,
   "metadata": {},
   "outputs": [
    {
     "data": {
      "image/png": "[encoded data removed]",
      "text/plain": [
       "<matplotlib.figure.Figure at 0x26001fc50>"
      ]
     },
     "metadata": {},
     "output_type": "display_data"
    }
   ],
   "source": [
    "# Training Accuracy\n",
    "x = np.arange(20)+1\n",
    "\n",
    "plt.plot(x, model_hist_embedding.history['acc'])\n",
    "plt.plot(x, model_hist_cnn.history['acc'])\n",
    "plt.legend(['LSTM', 'CNN'], loc='lower right')\n",
    "plt.ylabel(\"Accuracy\")\n",
    "plt.xlabel(\"Epoch\")\n",
    "plt.title(\"Training Accuracy\")\n",
    "plt.show()"
   ]
  },
  {
   "cell_type": "code",
   "execution_count": 38,
   "metadata": {},
   "outputs": [
    {
     "data": {
      "image/png": "[encoded data removed]",
      "text/plain": [
       "<matplotlib.figure.Figure at 0x23e0c72b0>"
      ]
     },
     "metadata": {},
     "output_type": "display_data"
    }
   ],
   "source": [
    "# Testing Accuracy\n",
    "x = np.arange(20)+1\n",
    "\n",
    "plt.plot(x, model_hist_embedding.history['val_acc'])\n",
    "plt.plot(x, model_hist_cnn.history['val_acc'])\n",
    "plt.legend(['LSTM', 'CNN'], loc='right')\n",
    "plt.ylabel(\"Accuracy\")\n",
    "plt.xlabel(\"Epoch\")\n",
    "plt.title(\"Testing Accuracy\")\n",
    "plt.show()"
   ]
  },
  {
   "cell_type": "markdown",
   "metadata": {},
   "source": [
    "So Basically they are all overfitting!\n",
    "This is a small dataset to show what can be done with deep learning"
   ]
  }
 ],
 "metadata": {
  "kernelspec": {
   "display_name": "Python 3",
   "language": "python",
   "name": "python3"
  },
  "language_info": {
   "codemirror_mode": {
    "name": "ipython",
    "version": 3
   },
   "file_extension": ".py",
   "mimetype": "text/x-python",
   "name": "python",
   "nbconvert_exporter": "python",
   "pygments_lexer": "ipython3",
   "version": "3.6.3"
  }
 },
 "nbformat": 4,
 "nbformat_minor": 2
}
